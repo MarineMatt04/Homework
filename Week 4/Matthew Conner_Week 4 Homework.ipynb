{
 "cells": [
  {
   "cell_type": "markdown",
   "metadata": {},
   "source": [
    "# *Matthew Conner: Week 4 Homework*\n",
    "\n",
    "### 1. What does one need to do to use a module?\n",
    "- A previously existing collection of related code or functions followed by \".py\"\n",
    "\n",
    "### 2. Name a Module (not the DateTime Nodule) we looked at and write a line or 2 of code as an example using this module.\n",
    "- We learned about the \"Welcome\" module.\n",
    "- import welcome ---> from welcome import welcome_message\n",
    "\n",
    "\n",
    "### 3. What is a benefit of using Exception handling?\n",
    "- With this code device we can keep working past many errors.\n",
    "\n",
    "\n",
    "### 4. What are the 4 components used for Python Exception Handling?\n",
    "- The `try` block lets you test a block of code for errors.\n",
    "- The `except` block lets you handle the error.\n",
    "- The `else` block lets you execute code when there is no error.\n",
    "- The `finally` block lets you execute code, regardless of the result of the try- and except blocks.\n",
    "\n",
    "### 5. NumPy arrays are like what Python data type?\n",
    "- Numpy Arrays are similar to 'Lists'\n",
    "\n",
    "### 6. What is one of the main benefits of using NumPy arrays?\n",
    "- They occupy less memory.\n",
    "\n",
    "### 7. What is one of the main requirements about the 'dtype' of NumPy arrays?\n",
    "- It can be set to any boolean value.\n",
    "\n",
    "### 8. Of the 10 uses of NumPy, name 2.\n",
    "- Arethmetic operations\n",
    "- Linear algebra \n",
    "\n",
    "### 9. Name one of the other libraries we'll use with NumPy?\n",
    "- Pandas\n",
    "\n",
    "### 10. What is the shape of NumPy arrays?\n",
    "- They specify array shape by dimension such as 2-D or 3-D). They use length in rows and size in columns.\n",
    "\n",
    "### 11. What is a Tensor? \n",
    "- An array with 3+ dimensions\n",
    "\n",
    "### 12. Name a reason why it's better using NumPy for Data Analysis than using a Python List?\n",
    "- NumPy supports a greater variety of numerical data types than Python.\n",
    "\n",
    "### 13. When creating an \"empty\" array, where do the elements come from?\n",
    "- An empty arrays data is random and based on memory.\n"
   ]
  },
  {
   "cell_type": "code",
   "execution_count": 1,
   "metadata": {},
   "outputs": [
    {
     "name": "stdout",
     "output_type": "stream",
     "text": [
      "Renting a car is more affordable.\n"
     ]
    }
   ],
   "source": [
    "#1.  Create an if statement: if 'age' is greater than or equal to 25, print \"Renting a car is more affordable\".\n",
    "# However if 'age' is less than 25, print \"Renting a car is very expensive.\"\n",
    "\n",
    "age = int(input('What is your age?'))\n",
    "\n",
    "if age >=25:\n",
    "    print(\"Renting a car is more affordable.\")\n",
    "else:\n",
    "    if age >=25:\n",
    "        print(\"Renting a car is very expensive.\")"
   ]
  },
  {
   "cell_type": "code",
   "execution_count": 4,
   "metadata": {},
   "outputs": [
    {
     "name": "stdout",
     "output_type": "stream",
     "text": [
      "Renting a car is more affordable.\n"
     ]
    }
   ],
   "source": [
    "#2. Create and chain an if-else statement: \n",
    "# If 'age' is greater than or equal to 25, print \"Renting a car is more affordable.\" \n",
    "# If 'age' is less than 25 but greater than or equal to 18, print \"Renting a car is very expensive.\" \n",
    "# Finally, if age is less than 18, print \"You cannot legally rent a car.\"\n",
    "\n",
    "age = int(input(\"What is your age?\"))\n",
    "\n",
    "if age >=25:\n",
    "    print(\"Renting a car is more affordable.\")\n",
    "else:\n",
    "    if age >=18:\n",
    "        print(\"Renting a car is very expensive.\")\n",
    "    else:\n",
    "        if age <=18:\n",
    "            print(\"You cannot legally rent a car.\")"
   ]
  },
  {
   "cell_type": "code",
   "execution_count": 5,
   "metadata": {},
   "outputs": [
    {
     "name": "stdout",
     "output_type": "stream",
     "text": [
      "43\n",
      "e u i o o u o e e a o "
     ]
    }
   ],
   "source": [
    "#3. Loop over the following string to: \n",
    "# (1) count all the characters in the string \n",
    "# (2) print out all the vowels  \n",
    "# \"The quick brown fox jumps over the lazy dog\"\n",
    "\n",
    "string = \"The quick brown fox jumps over the lazy dog\"\n",
    "count1 = len(string)\n",
    "vowels = [\"a\", \"e\", \"i\", \"o\", \"u\"]\n",
    "count = 0\n",
    "print(count1)\n",
    "for vowel in string:\n",
    "        if vowel in vowels:\n",
    "                print(vowel, end = \" \")"
   ]
  },
  {
   "cell_type": "code",
   "execution_count": 8,
   "metadata": {},
   "outputs": [
    {
     "name": "stdout",
     "output_type": "stream",
     "text": [
      "trousers cerise\n",
      "blouse cerise\n",
      "bandana cerise\n",
      "cumber band cerise\n",
      "blazer cerise\n",
      "vest cerise\n",
      "french beret cerise\n",
      "scarf cerise\n",
      "stole cerise\n",
      "trousers aqua\n",
      "blouse aqua\n",
      "bandana aqua\n",
      "cumber band aqua\n",
      "blazer aqua\n",
      "vest aqua\n",
      "french beret aqua\n",
      "scarf aqua\n",
      "stole aqua\n",
      "trousers burnt sienna\n",
      "blouse burnt sienna\n",
      "bandana burnt sienna\n",
      "cumber band burnt sienna\n",
      "blazer burnt sienna\n",
      "vest burnt sienna\n",
      "french beret burnt sienna\n",
      "scarf burnt sienna\n",
      "stole burnt sienna\n",
      "trousers Dark Sapphire\n",
      "blouse Dark Sapphire\n",
      "bandana Dark Sapphire\n",
      "cumber band Dark Sapphire\n",
      "blazer Dark Sapphire\n",
      "vest Dark Sapphire\n",
      "french beret Dark Sapphire\n",
      "scarf Dark Sapphire\n",
      "stole Dark Sapphire\n",
      "trousers auburn\n",
      "blouse auburn\n",
      "bandana auburn\n",
      "cumber band auburn\n",
      "blazer auburn\n",
      "vest auburn\n",
      "french beret auburn\n",
      "scarf auburn\n",
      "stole auburn\n",
      "trousers fuchsia\n",
      "blouse fuchsia\n",
      "bandana fuchsia\n",
      "cumber band fuchsia\n",
      "blazer fuchsia\n",
      "vest fuchsia\n",
      "french beret fuchsia\n",
      "scarf fuchsia\n",
      "stole fuchsia\n",
      "trousers gunmetal blue\n",
      "blouse gunmetal blue\n",
      "bandana gunmetal blue\n",
      "cumber band gunmetal blue\n",
      "blazer gunmetal blue\n",
      "vest gunmetal blue\n",
      "french beret gunmetal blue\n",
      "scarf gunmetal blue\n",
      "stole gunmetal blue\n",
      "trousers maple\n",
      "blouse maple\n",
      "bandana maple\n",
      "cumber band maple\n",
      "blazer maple\n",
      "vest maple\n",
      "french beret maple\n",
      "scarf maple\n",
      "stole maple\n"
     ]
    }
   ],
   "source": [
    "#4. Write a nested loop that prints out every piece of clothing from the couture list, in every fashionable color from the panettone set: \n",
    "# couture = [\"trousers\", \"blouse\", \"bandana\", \"cumber band\", \"blazer\", \"vest\", \"french beret\", \"scarf\", \"stole\"] \n",
    "# panettone = {\"cerise\", \"fuchsia\", \"aqua\", \"maple\", \"auburn\", \"burnt sienna\", \"gunmetal blue\", \"Dark Sapphire\"}\n",
    "\n",
    "couture = [\"trousers\", \"blouse\", \"bandana\", \"cumber band\", \"blazer\", \"vest\", \"french beret\", \"scarf\", \"stole\"] \n",
    "panettone = {\"cerise\", \"fuchsia\", \"aqua\", \"maple\", \"auburn\", \"burnt sienna\", \"gunmetal blue\", \"Dark Sapphire\"}\n",
    "\n",
    "for color in panettone:\n",
    "\tfor style in couture:\n",
    "\t\tprint(style, color)  "
   ]
  },
  {
   "cell_type": "code",
   "execution_count": 10,
   "metadata": {},
   "outputs": [
    {
     "name": "stdout",
     "output_type": "stream",
     "text": [
      "5050\n"
     ]
    }
   ],
   "source": [
    "#5. Use range as a loop to calculate the sum of all the numbers from 1 to 100\n",
    "\n",
    "sum = 0\n",
    "\n",
    "for number in range (1,101):\n",
    "    sum += int(number)\n",
    "print(sum)"
   ]
  },
  {
   "cell_type": "code",
   "execution_count": 12,
   "metadata": {},
   "outputs": [
    {
     "name": "stdout",
     "output_type": "stream",
     "text": [
      "banana\n"
     ]
    }
   ],
   "source": [
    "#6. Print the second item in this fruits list. [\"apple\", \"banana\", \"cherry\"]\n",
    "\n",
    "fruits = [\"apple\", \"banana\", \"cherry\"]\n",
    "\n",
    "print(fruits[1])"
   ]
  },
  {
   "cell_type": "code",
   "execution_count": 13,
   "metadata": {},
   "outputs": [
    {
     "name": "stdout",
     "output_type": "stream",
     "text": [
      "['kiwi', 'banana', 'cherry']\n"
     ]
    }
   ],
   "source": [
    "#7. Change the value from \"apple\" to \"kiwi\", in the fruits list. [\"apple\", \"banana\", \"cherry\"]\n",
    "\n",
    "fruits = [\"apple\", \"banana\", \"cherry\"]\n",
    "\n",
    "fruits[0] = \"kiwi\"\n",
    "print(fruits)\n"
   ]
  },
  {
   "cell_type": "code",
   "execution_count": 16,
   "metadata": {},
   "outputs": [
    {
     "name": "stdout",
     "output_type": "stream",
     "text": [
      "['apple', 'banana', 'cherry', 'orange']\n"
     ]
    }
   ],
   "source": [
    "#8. Use the append method to add \"orange\" to the fruits list. [\"apple\", \"banana\", \"cherry\"]\n",
    "\n",
    "fruits = [\"apple\", \"banana\", \"cherry\"]\n",
    "\n",
    "fruits.append(\"orange\")\n",
    "print(fruits)"
   ]
  },
  {
   "cell_type": "code",
   "execution_count": 89,
   "metadata": {},
   "outputs": [
    {
     "name": "stdout",
     "output_type": "stream",
     "text": [
      "['apple', 'lemon', 'banana', 'cherry']\n"
     ]
    }
   ],
   "source": [
    "#9. Use the insert method to add \"lemon\" as the second item in the fruits list. [\"apple\", \"banana\", \"cherry\"]\n",
    "\n",
    "fruits = [\"apple\", \"banana\", \"cherry\"]\n",
    "\n",
    "fruits.insert(1, \"lemon\")\n",
    "print(fruits)\n"
   ]
  },
  {
   "cell_type": "code",
   "execution_count": 35,
   "metadata": {},
   "outputs": [
    {
     "name": "stdout",
     "output_type": "stream",
     "text": [
      "['apple', 'cherry']\n"
     ]
    }
   ],
   "source": [
    "#10. Use the remove method to remove \"banana\" from the fruits list. [\"apple\", \"banana\", \"cherry\"]\n",
    "\n",
    "fruits = [\"apple\", \"banana\", \"cherry\"]\n",
    "fruits.remove(\"banana\")\n",
    "print(fruits)"
   ]
  },
  {
   "cell_type": "code",
   "execution_count": 42,
   "metadata": {},
   "outputs": [
    {
     "name": "stdout",
     "output_type": "stream",
     "text": [
      "['kiwi', 'melon']\n"
     ]
    }
   ],
   "source": [
    "#11. Use negative indexing to print the 3rd and 2nd to last items in the list. [\"apple\", \"banana\", \"cherry\", \"orange\", \"kiwi\", \"melon\", \"mango\"]\n",
    "\n",
    "fruits2 = [\"apple\", \"banana\", \"cherry\", \"orange\", \"kiwi\", \"melon\", \"mango\"]\n",
    "print(fruits2[-3:-1])"
   ]
  },
  {
   "cell_type": "code",
   "execution_count": 43,
   "metadata": {},
   "outputs": [
    {
     "name": "stdout",
     "output_type": "stream",
     "text": [
      "['cherry', 'orange', 'kiwi']\n"
     ]
    }
   ],
   "source": [
    "#12. Use a range of indexes to print the third, fourth, and fifth item in the list. [\"apple\", \"banana\", \"cherry\", \"orange\", \"kiwi\", \"melon\", \"mango\"]\n",
    "\n",
    "fruits2 = [\"apple\", \"banana\", \"cherry\", \"orange\", \"kiwi\", \"melon\", \"mango\"]\n",
    "print(fruits2[2:5])"
   ]
  },
  {
   "cell_type": "code",
   "execution_count": 46,
   "metadata": {},
   "outputs": [
    {
     "name": "stdout",
     "output_type": "stream",
     "text": [
      "7\n"
     ]
    }
   ],
   "source": [
    "#13. Use the correct syntax to print the number of items in the list. [\"apple\", \"banana\", \"cherry\", \"orange\", \"kiwi\", \"melon\", \"mango\"]\n",
    "\n",
    "fruits2 = [\"apple\", \"banana\", \"cherry\", \"orange\", \"kiwi\", \"melon\", \"mango\"]\n",
    "print(len(fruits2))"
   ]
  },
  {
   "cell_type": "code",
   "execution_count": 56,
   "metadata": {},
   "outputs": [
    {
     "name": "stdout",
     "output_type": "stream",
     "text": [
      "['orange', 'melon', 'mango', 'kiwi', 'cherry', 'banana', 'apple']\n"
     ]
    }
   ],
   "source": [
    "#14. Use the correct syntax to sort this list in reverse order [\"apple\", \"banana\", \"cherry\", \"orange\", \"kiwi\", \"melon\", \"mango\"]\n",
    "\n",
    "fruits2 = [\"apple\", \"banana\", \"cherry\", \"orange\", \"kiwi\", \"melon\", \"mango\"]\n",
    "fruits2.sort(reverse=True)\n",
    "print(fruits2)"
   ]
  },
  {
   "cell_type": "code",
   "execution_count": 62,
   "metadata": {},
   "outputs": [
    {
     "name": "stdout",
     "output_type": "stream",
     "text": [
      "2023-11-01 15:18:53.116080\n",
      "November\n"
     ]
    }
   ],
   "source": [
    "#15. Use the DateTime module to get Current Date and Time, and save it to a variable. Then extract just the Full month name form that variable.\n",
    "\n",
    "import datetime as dt\n",
    "today = dt.datetime.now()\n",
    "print(today)\n",
    "print(today.strftime(\"%B\"))"
   ]
  },
  {
   "cell_type": "code",
   "execution_count": 85,
   "metadata": {},
   "outputs": [
    {
     "name": "stdout",
     "output_type": "stream",
     "text": [
      "Hello Matt, have a great Sunday!\n"
     ]
    }
   ],
   "source": [
    "#16. Write a simple function that takes 2 parameters -- a first name and a day name.\n",
    "#A. Set a default value for the day name of Sunday.\n",
    "#B. Have the function print out a greeting -- using the parameters -- that says something like \"Hi first-name! Happy day-name!\". Remember to use the variables in the greeting to replace first-name and day-name.\n",
    "#C. Invoke this function with 2 variables.\n",
    "#D. Invoke this function with 1 variable only.\n",
    "\n",
    "name = input(\"What is your name?\")\n",
    "day = input(\"What is your favorite day?\")\n",
    "greeting = (f\"Hello {name}, have a great {day}!\")\n",
    "\n",
    "print(greeting)\n"
   ]
  }
 ],
 "metadata": {
  "kernelspec": {
   "display_name": "Python 3",
   "language": "python",
   "name": "python3"
  },
  "language_info": {
   "codemirror_mode": {
    "name": "ipython",
    "version": 3
   },
   "file_extension": ".py",
   "mimetype": "text/x-python",
   "name": "python",
   "nbconvert_exporter": "python",
   "pygments_lexer": "ipython3",
   "version": "3.11.5"
  }
 },
 "nbformat": 4,
 "nbformat_minor": 2
}
