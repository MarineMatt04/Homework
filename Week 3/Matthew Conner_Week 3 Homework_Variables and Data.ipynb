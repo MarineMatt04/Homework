{
 "cells": [
  {
   "cell_type": "code",
   "execution_count": 24,
   "metadata": {},
   "outputs": [
    {
     "name": "stdout",
     "output_type": "stream",
     "text": [
      "This is all about me!\n",
      "My name is Mattew Conner.\n",
      "My favorite food is Shepards Pie.\n",
      "My dream job is to be an Astronaut.\n",
      "Thanks for lisenting!\n"
     ]
    }
   ],
   "source": [
    "#Data Types:\n",
    "\n",
    "#6\n",
    "title = 'This is all about me!'\n",
    "persons_name = 'Mattew Conner.'\n",
    "favorite_food = 'Shepards Pie.'\n",
    "dream_job = 'Astronaut.'\n",
    "title_ending = 'Thanks for lisenting!'\n",
    "\n",
    "print(title)\n",
    "print(\"My name is \" + persons_name)\n",
    "print(\"My favorite food is \" + favorite_food)\n",
    "print(\"My dream job is to be an \" + dream_job)\n",
    "print(title_ending)"
   ]
  },
  {
   "cell_type": "code",
   "execution_count": 26,
   "metadata": {},
   "outputs": [
    {
     "name": "stdout",
     "output_type": "stream",
     "text": [
      "The length of the variable candy is... 15\n",
      "The 4th character in the candy string is:   it is blank because that character is a space.\n"
     ]
    }
   ],
   "source": [
    "#7\n",
    "\n",
    "candy = 'Sour Patch Kids'\n",
    "ice_cream = 'Cookie Dough'\n",
    "soda = 'Coke Cola'\n",
    "sandwich = 'Turkey Club'\n",
    "chips = 'Sea Salt and Vinegar'\n",
    "\n",
    "print('The length of the variable candy is...', len(candy))\n",
    "print('The 4th character in the candy string is:', candy[4], 'it is blank because that character is a space.')"
   ]
  },
  {
   "cell_type": "code",
   "execution_count": 45,
   "metadata": {},
   "outputs": [
    {
     "name": "stdout",
     "output_type": "stream",
     "text": [
      "ing Data Analytics \n",
      "Learning Data Analytics and Python is great!\n",
      "The word 'Python' is in the phrase 'Learning Data Analytics and Python is Awesome!'.\n"
     ]
    }
   ],
   "source": [
    "#8\n",
    "\n",
    "savvy = 'Learning Data Analytics and Python is Awesome!'\n",
    "print(savvy[5:24])\n",
    "print(savvy.replace('Awesome', 'great'))\n",
    "\n",
    "word = 'Python'\n",
    "\n",
    "if word in savvy:\n",
    "  print(\"The word '{}' is in the phrase '{}'.\".format(word, savvy))"
   ]
  },
  {
   "cell_type": "code",
   "execution_count": 60,
   "metadata": {},
   "outputs": [
    {
     "name": "stdout",
     "output_type": "stream",
     "text": [
      "Hi my name is Matthew Conner, I am 74 inches tall and 38 years old today.\n",
      "38.0\n"
     ]
    }
   ],
   "source": [
    "#9\n",
    "\n",
    "name = 'Matthew Conner'\n",
    "age = 38\n",
    "length = '74 inches tall'\n",
    "miniBio = (f'Hi my name is {name}, I am {length} and {age} years old today.')\n",
    "\n",
    "print(miniBio)\n",
    "\n",
    "a = float(age)\n",
    "print(a)\n",
    "\n"
   ]
  },
  {
   "cell_type": "code",
   "execution_count": 154,
   "metadata": {},
   "outputs": [
    {
     "name": "stdout",
     "output_type": "stream",
     "text": [
      "Wally Natalie Violet Geocaching St Louis\n",
      "40\n",
      "Jenny Natalie Violet Geocaching St Louis\n",
      "I have a daughter named Violet who loves her dog Wally. They go Geocaching in St Louis.\n",
      "I have a daughter named Violet who loves her dog Wally. They go Geocaching in Orlando.\n",
      "I have a daughter named Violet who adores her dog Wally. They go Geocaching in St Louis.\n",
      "I have a daughter named Natalie who loves her dog Wally. They go Geocaching in St Louis.\n"
     ]
    }
   ],
   "source": [
    "#***\n",
    "\n",
    "pet = 'Wally'\n",
    "woman = 'Natalie'\n",
    "girl = 'Violet'\n",
    "fun = 'Geocaching'\n",
    "city = 'St Louis'\n",
    "list = pet + \" \" + woman + \" \" + girl + \" \" + fun + \" \" + city\n",
    "story = (f'I have a daughter named {girl} who loves her dog {pet}. ' \n",
    "         f'They go {fun} in {city}.')\n",
    "print(list)\n",
    "print(len(list))\n",
    "newList = list.replace('Wally', 'Jenny')\n",
    "print(newList)\n",
    "print(story)\n",
    "print(story.replace('St Louis', 'Orlando'))\n",
    "print(f'I have a daughter named {girl} who %s her dog {pet}. They go {fun} in {city}.' %'adores')\n",
    "print(story.replace(girl, woman))\n",
    "\n",
    "\n",
    "\n"
   ]
  },
  {
   "cell_type": "code",
   "execution_count": 190,
   "metadata": {},
   "outputs": [
    {
     "name": "stdout",
     "output_type": "stream",
     "text": [
      "['Violet', 'gooey', 314, 'beaches', 'love', 8.22]\n",
      "['Violet', 'butter', 314, 'beaches', 'love', 8.22]\n",
      "['Violet', 'butter', 314, 'mountains', 'adore', 629]\n",
      "['Violet', 'butter', 314, 'mountains', 'adore', 629, 'movies']\n",
      "7\n",
      "[314, 'mountains', 'adore', 629, 'movies']\n",
      "['Violet', 'butter', 314, 'mountains', 'adore', 629, 'movies', 314, 'mountains', 'adore', 629, 'movies']\n"
     ]
    }
   ],
   "source": [
    "#10: Part One\n",
    "\n",
    "rando = ['Violet', 'gooey', 314, 'beaches', 'love', 8.22]\n",
    "print(rando)\n",
    "\n",
    "rando[1] = 'butter'\n",
    "print(rando)\n",
    "\n",
    "rando[3:6] = ['mountains', 'adore', 629]\n",
    "print(rando)\n",
    "\n",
    "rando.append('movies')\n",
    "print(rando)\n",
    "\n",
    "print(len(rando))\n",
    "\n",
    "obscure = (rando[2:])\n",
    "print(obscure)\n",
    "\n",
    "poppycock = rando + obscure\n",
    "print(poppycock)\n",
    "\n"
   ]
  },
  {
   "cell_type": "code",
   "execution_count": 193,
   "metadata": {},
   "outputs": [
    {
     "name": "stdout",
     "output_type": "stream",
     "text": [
      "['bacon', 'sausage', 'eggs', 'pancakes', 'hashbrowns', 'toast']\n",
      "['toast', 'sausage', 'pancakes', 'hashbrowns', 'eggs', 'bacon']\n",
      "['toast', 'sausage', 'pancakes', 'hashbrowns', 'eggs', 'bacon']\n",
      "['toast', 'sausage', 'pancakes', 'hashbrowns', 'eggs', 'bacon', 'toast', 'sausage', 'pancakes', 'hashbrowns', 'eggs', 'bacon']\n"
     ]
    }
   ],
   "source": [
    "#10: Part Two\n",
    "\n",
    "simList = ['bacon', 'sausage', 'eggs', 'pancakes', 'hashbrowns', 'toast']\n",
    "print(simList)\n",
    "simList.sort(reverse=True)\n",
    "print(simList)\n",
    "breakfast = simList.copy()\n",
    "print(breakfast)\n",
    "hungry = simList + breakfast\n",
    "print(hungry)\n"
   ]
  },
  {
   "cell_type": "code",
   "execution_count": 209,
   "metadata": {},
   "outputs": [
    {
     "name": "stdout",
     "output_type": "stream",
     "text": [
      "('driver', 'wood', 'iron', 'wedge', 'putter')\n",
      "('driver', 'wood', 'iron', 'wedge', 'putter', 'driver', 'wood', 'iron', 'wedge', 'putter', 'driver', 'wood', 'iron', 'wedge', 'putter')\n",
      "['driver', 'driver', 'driver', 'iron', 'iron', 'iron', 'putter', 'putter', 'putter', 'wedge', 'wedge', 'wedge', 'wood', 'wood', 'wood']\n",
      "('iron', 'wedge', 'putter', 'driver')\n",
      "iron\n",
      "wedge\n",
      "putter\n",
      "driver\n",
      "('driver', 'wood', 'iron', 'wedge', 'putter', 'driver', 'wood', 'iron', 'wedge', 'putter', 'driver', 'wood', 'iron', 'wedge', 'putter', 'iron', 'wedge', 'putter', 'driver')\n"
     ]
    }
   ],
   "source": [
    "#11\n",
    "\n",
    "tup1 = 'driver', 'wood', 'iron', 'wedge', 'putter'\n",
    "print(tup1)\n",
    "\n",
    "tupMultiply = tup1 * 3\n",
    "print(tupMultiply)\n",
    "\n",
    "print(sorted(tupMultiply))\n",
    "\n",
    "tupCopy = tupMultiply[2:6]\n",
    "print(tupCopy)\n",
    "\n",
    "long, medium, short, far = tupCopy\n",
    "print(long)\n",
    "print(medium)\n",
    "print(short)\n",
    "print(far)\n",
    "\n",
    "tup4 = 50\n",
    "\n",
    "tupAdd = tupMultiply + tupCopy\n",
    "print(tupAdd)\n"
   ]
  },
  {
   "cell_type": "code",
   "execution_count": 253,
   "metadata": {},
   "outputs": [
    {
     "name": "stdout",
     "output_type": "stream",
     "text": [
      "{'phone', 'tablet', 'computer'}\n",
      "{'phone', 'blueberry', 'tablet', 'computer', 'raspberry', 'strawberry'}\n",
      "{'Porche', 'phone', 'blueberry', 'tablet', 'computer', 'raspberry', 'strawberry'}\n",
      "{'coffee', 'water', 'soda', 'tea'}\n",
      "{'Porche', 'phone', 'coffee', 'blueberry', 'tea', 'tablet', 'computer', 'soda', 'raspberry', 'strawberry', 'water'}\n",
      "{'water', 'soda', 'tea'}\n",
      "set()\n",
      "{'phone', 'coffee', 'blueberry', 'tea', 'tablet', 'computer', 'soda', 'raspberry', 'water'}\n"
     ]
    }
   ],
   "source": [
    "#12\n",
    "\n",
    "set1 = {'phone', 'computer', 'tablet'}\n",
    "print(set1)\n",
    "\n",
    "set1.add('raspberry')\n",
    "set1.add('blueberry')\n",
    "set1.add('strawberry')\n",
    "print(set1)\n",
    "\n",
    "set1.add('Porche')\n",
    "print(set1)\n",
    "\n",
    "set2 = {'coffee', 'soda', 'tea', 'water'}\n",
    "print(set2)\n",
    "\n",
    "set3 = set1.union(set2)\n",
    "print(set3)\n",
    "\n",
    "set2.pop()\n",
    "print(set2)\n",
    "\n",
    "set1.clear()\n",
    "print(set1)\n",
    "\n",
    "set3.remove('Porche')\n",
    "set3.discard('strawberry')\n",
    "print(set3)\n"
   ]
  },
  {
   "cell_type": "code",
   "execution_count": 295,
   "metadata": {},
   "outputs": [
    {
     "name": "stdout",
     "output_type": "stream",
     "text": [
      "laptop\n",
      "{'item': 'computer', 'type': 'laptop', 'brand': 'Conner', 'system': 'Windows', 'program': 'VSCode', 'color': 'blue', 'uses': ('gaming', 'browsing', 'work', 'editing')}\n",
      "dict_keys(['item', 'type', 'brand', 'system', 'program', 'color', 'uses'])\n",
      "dict_values(['computer', 'laptop', 'Conner', 'Windows', 'VSCode', 'blue', ('gaming', 'browsing', 'work', 'editing')])\n",
      "{'item': 'computer', 'type': 'laptop', 'brand': 'Conner', 'system': 'Windows', 'program': 'VSCode', 'color': 'blue', 'uses': ('gaming', 'browsing', 'work', 'editing')}\n",
      "{'item': 'computer', 'type': 'laptop', 'brand': 'Conner', 'program': 'VSCode', 'color': 'blue', 'uses': ('gaming', 'browsing', 'work', 'editing')}\n",
      "{}\n"
     ]
    }
   ],
   "source": [
    "#13\n",
    "\n",
    "dict1 = {\n",
    "    'item': 'computer',\n",
    "    'type': 'laptop',\n",
    "    'brand': 'Dell',\n",
    "    'system': 'Windows',\n",
    "    'program': 'VSCode'\n",
    "}\n",
    "\n",
    "print(dict1.get('type'))\n",
    "\n",
    "dict1.update({'brand': 'Conner'})\n",
    "\n",
    "dict1['color'] = 'blue'\n",
    "\n",
    "tupl = 'gaming', 'browsing', 'work', 'editing'\n",
    "\n",
    "dict1.update({'uses': tupl})\n",
    "\n",
    "print(dict1)\n",
    "\n",
    "\n",
    "print(dict1.keys())\n",
    "\n",
    "print(dict1.values())\n",
    "\n",
    "dict2 = dict1\n",
    "print(dict2)\n",
    "\n",
    "dict2.pop('system')\n",
    "print(dict2)\n",
    "\n",
    "dict2.clear()\n",
    "print(dict2)\n",
    "\n"
   ]
  }
 ],
 "metadata": {
  "kernelspec": {
   "display_name": "Python 3",
   "language": "python",
   "name": "python3"
  },
  "language_info": {
   "codemirror_mode": {
    "name": "ipython",
    "version": 3
   },
   "file_extension": ".py",
   "mimetype": "text/x-python",
   "name": "python",
   "nbconvert_exporter": "python",
   "pygments_lexer": "ipython3",
   "version": "3.11.5"
  }
 },
 "nbformat": 4,
 "nbformat_minor": 2
}
