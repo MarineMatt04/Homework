{
 "cells": [
  {
   "cell_type": "markdown",
   "metadata": {},
   "source": [
    "# Matthew Conner - Week 5 Homework\n",
    "\n",
    "### 1. What does Pandas stand for?\n",
    "- Pandas stands for either Panel Data or Python Data Analysis.\n",
    "\n",
    "### 2. What are the 2 collections used in Pandas?\n",
    "- Rows and columns\n",
    "\n",
    "### 3. Name 4 things Pandas can do for us.\n",
    "- load\n",
    "- manipulate\n",
    "- prepare\n",
    "- model\n",
    "\n",
    "### 4. To permanently sort a DataFrame, which keyword should one use with the df.sort() method?\n",
    "- \"Values\"\n",
    "\n",
    "### 5. What is a CSV?\n",
    "- A comma separated value\n",
    "\n",
    "### 6. When cleaning data what values do we not like in our data?\n",
    "- "
   ]
  },
  {
   "cell_type": "code",
   "execution_count": 27,
   "metadata": {},
   "outputs": [
    {
     "name": "stdout",
     "output_type": "stream",
     "text": [
      "This is my 3D Array...\n",
      " [[[ 1  2]\n",
      "  [ 3  4]\n",
      "  [ 5  6]]\n",
      "\n",
      " [[ 7  8]\n",
      "  [ 9 10]\n",
      "  [11 12]]]\n",
      "\n",
      "This is my reshaped Array...\n",
      " [[ 1  2  3]\n",
      " [ 4  5  6]\n",
      " [ 7  8  9]\n",
      " [10 11 12]]\n"
     ]
    }
   ],
   "source": [
    "#7. Import NumPy, use one of the NumPy methods and create an array with a shape of (2, 3, 2). You can use the reshape method -- .reshape()\n",
    "\n",
    "import numpy as np\n",
    "\n",
    "testArray = np.array(\n",
    "                            [  \n",
    "                                [ [1, 2], [3, 4], [5, 6]],\n",
    "                                [ [7, 8], [9, 10], [11, 12]], \n",
    "                            ]\n",
    "                        )\n",
    "print(\"This is my 3D Array...\\n\", testArray)\n",
    "\n",
    "reshapeArray = testArray.reshape(4,-1)\n",
    "print(\"\\nThis is my reshaped Array...\\n\", reshapeArray)"
   ]
  },
  {
   "cell_type": "code",
   "execution_count": 5,
   "metadata": {},
   "outputs": [
    {
     "name": "stdout",
     "output_type": "stream",
     "text": [
      "These are my linearly spaced values... [ 0.  4.  8. 12. 16. 20.]\n",
      "This is my Deep Copy... [ 0.  4.  8. 12. 16. 20.]\n"
     ]
    }
   ],
   "source": [
    "#8. Use NumPy .linspace() to create an array with 6 linearly spaced values between 0 and 20.\n",
    "\n",
    "import numpy as np\n",
    "\n",
    "linearly = np.linspace(0, 20, num=6)\n",
    "print(\"These are my linearly spaced values...\", linearly)\n",
    "\n",
    "\n",
    "#9. Make a Deep Copy of the above array.\n",
    "\n",
    "twinArray = linearly.copy()\n",
    "print(\"This is my Deep Copy...\", twinArray)\n"
   ]
  },
  {
   "cell_type": "code",
   "execution_count": 12,
   "metadata": {},
   "outputs": [
    {
     "name": "stdout",
     "output_type": "stream",
     "text": [
      "This is my array concatenation...\n",
      " [[25 16]\n",
      " [11  2]\n",
      " [13  4]\n",
      " [ 7 81]\n",
      " [ 5  6]\n",
      " [11 12]]\n",
      "\n",
      "This is my sorted array...\n",
      " [[16 25]\n",
      " [ 2 11]\n",
      " [ 4 13]\n",
      " [ 7 81]\n",
      " [ 5  6]\n",
      " [11 12]]\n"
     ]
    }
   ],
   "source": [
    "#10. Concatenate these 3 arrays into a new array named 'newArray'...\n",
    "#    ([[25, 16]])\n",
    "#    ([[11, 2], [13, 4]])\n",
    "#    ([[7, 81], [5, 6], [11, 12]])\n",
    "\n",
    "import numpy as np\n",
    "\n",
    "arrayA = np.array([[25, 16]])\n",
    "arrayB = np.array([[11, 2], [13, 4]])\n",
    "arrayC = np.array([[7, 81], [5, 6], [11, 12]])\n",
    "\n",
    "newArray = np.concatenate((arrayA, arrayB, arrayC), axis=0)\n",
    "print(\"This is my array concatenation...\\n\", newArray)\n",
    "\n",
    "\n",
    "#11. Sort 'newArray' in order into 'sortedArray'\n",
    "\n",
    "sortedArray = np.sort(newArray)\n",
    "print(\"\\nThis is my sorted array...\\n\", np.sort(sortedArray))\n",
    "\n"
   ]
  },
  {
   "cell_type": "code",
   "execution_count": 31,
   "metadata": {},
   "outputs": [
    {
     "name": "stdout",
     "output_type": "stream",
     "text": [
      "[[ 1  2  3]\n",
      " [ 4  5  6]\n",
      " [ 7  8  9]\n",
      " [10 11 12]]\n",
      "\n",
      "huey =  [1 2 3]\n",
      "duey =  [4 5 6]\n",
      "luey =  [7 8 9]\n",
      "donald =  [10 11 12]\n"
     ]
    }
   ],
   "source": [
    "#12. Unpack the array tuples from the above 'reshapedArray' into 4 well named variables. Print the 4 variables.\n",
    "\n",
    "import numpy as np\n",
    "print(reshapeArray)\n",
    "\n",
    "huey, duey, luey, donald = reshapeArray\n",
    "print(\"\\nhuey = \", huey)\n",
    "print(\"duey = \", duey)\n",
    "print(\"luey = \", luey)\n",
    "print(\"donald = \", donald)"
   ]
  },
  {
   "cell_type": "code",
   "execution_count": null,
   "metadata": {},
   "outputs": [],
   "source": [
    "#13. Combined and sort the following arrays into one called 'comboArray'...\n",
    "#    one = ([10, 11, 12, 13, 14, 15, 16, 17])\n",
    "#    two = ([20, 21, 22, 23, 24, 25, 26, 27])\n",
    "#    three = ([ 0, 1, 2, 3, 4, 5, 6, 7])"
   ]
  }
 ],
 "metadata": {
  "kernelspec": {
   "display_name": "Python 3",
   "language": "python",
   "name": "python3"
  },
  "language_info": {
   "codemirror_mode": {
    "name": "ipython",
    "version": 3
   },
   "file_extension": ".py",
   "mimetype": "text/x-python",
   "name": "python",
   "nbconvert_exporter": "python",
   "pygments_lexer": "ipython3",
   "version": "3.11.5"
  }
 },
 "nbformat": 4,
 "nbformat_minor": 2
}
